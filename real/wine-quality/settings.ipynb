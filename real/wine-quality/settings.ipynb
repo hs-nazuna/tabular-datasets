{
 "cells": [
  {
   "cell_type": "code",
   "execution_count": 1,
   "id": "cbe3c386",
   "metadata": {},
   "outputs": [
    {
     "data": {
      "text/plain": [
       "(6497, 13)"
      ]
     },
     "execution_count": 1,
     "metadata": {},
     "output_type": "execute_result"
    }
   ],
   "source": [
    "import pandas as pd\n",
    "\n",
    "df_red = pd.read_csv('winequality-red.csv')\n",
    "df_white = pd.read_csv('winequality-white.csv')\n",
    "df_red['color'] = 'red'\n",
    "df_white['color'] = 'white'\n",
    "df = pd.concat([df_red, df_white], axis=0).reset_index(drop=True)\n",
    "quality = df['quality']\n",
    "df = df.drop(columns=['quality'])\n",
    "df['quality'] = quality\n",
    "df.to_csv('wine-quality.csv', index=False)\n",
    "df.shape"
   ]
  }
 ],
 "metadata": {
  "kernelspec": {
   "display_name": "Python 3",
   "language": "python",
   "name": "python3"
  },
  "language_info": {
   "codemirror_mode": {
    "name": "ipython",
    "version": 3
   },
   "file_extension": ".py",
   "mimetype": "text/x-python",
   "name": "python",
   "nbconvert_exporter": "python",
   "pygments_lexer": "ipython3",
   "version": "3.10.12"
  }
 },
 "nbformat": 4,
 "nbformat_minor": 5
}
