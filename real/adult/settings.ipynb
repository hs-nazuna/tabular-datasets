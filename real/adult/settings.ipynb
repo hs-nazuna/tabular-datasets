{
 "cells": [
  {
   "cell_type": "code",
   "execution_count": 1,
   "id": "f0a9de1b",
   "metadata": {},
   "outputs": [
    {
     "name": "stdout",
     "output_type": "stream",
     "text": [
      "(48842, 14)\n"
     ]
    }
   ],
   "source": [
    "import numpy as np\n",
    "import pandas as pd\n",
    "from ucimlrepo import fetch_ucirepo\n",
    "\n",
    "data = fetch_ucirepo(id=2)\n",
    "X = data.data.features\n",
    "y = data.data.targets\n",
    "print(X.shape)"
   ]
  },
  {
   "cell_type": "code",
   "execution_count": 2,
   "id": "7bf20c40",
   "metadata": {},
   "outputs": [
    {
     "name": "stdout",
     "output_type": "stream",
     "text": [
      "(array(['<=50K', '>50K'], dtype=object), array([37155, 11687]))\n"
     ]
    }
   ],
   "source": [
    "label_map = {\n",
    "    '<=50K': '<=50K',\n",
    "    '>50K': '>50K',\n",
    "    '<=50K.': '<=50K',\n",
    "    '>50K.': '>50K'\n",
    "}\n",
    "y = y.map(lambda val : label_map[val])\n",
    "print(np.unique(y, return_counts=True))"
   ]
  },
  {
   "cell_type": "code",
   "execution_count": 3,
   "id": "bb4bbb75",
   "metadata": {},
   "outputs": [
    {
     "data": {
      "text/plain": [
       "(45222, 15)"
      ]
     },
     "execution_count": 3,
     "metadata": {},
     "output_type": "execute_result"
    }
   ],
   "source": [
    "for i, col in enumerate(X.columns):\n",
    "    if X[col].dtype == 'object':\n",
    "        X.iloc[:,i] = X[col].replace('?', np.nan)\n",
    "\n",
    "df = pd.concat([X, y], axis=1)\n",
    "df = df.dropna().reset_index(drop=True)\n",
    "df.to_csv(\"adult.csv\", index=False)\n",
    "df.shape"
   ]
  }
 ],
 "metadata": {
  "kernelspec": {
   "display_name": "Python 3",
   "language": "python",
   "name": "python3"
  },
  "language_info": {
   "codemirror_mode": {
    "name": "ipython",
    "version": 3
   },
   "file_extension": ".py",
   "mimetype": "text/x-python",
   "name": "python",
   "nbconvert_exporter": "python",
   "pygments_lexer": "ipython3",
   "version": "3.10.12"
  }
 },
 "nbformat": 4,
 "nbformat_minor": 5
}
